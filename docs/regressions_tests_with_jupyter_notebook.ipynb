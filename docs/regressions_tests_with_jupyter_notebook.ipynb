{
 "cells": [
  {
   "cell_type": "markdown",
   "metadata": {},
   "source": [
    "# Regressions tests with Jupyter Notebook and Batspp\n",
    "\n",
    "You can use Jupyter Notebooks and Batspp to run [regressions tests](https://en.wikipedia.org/wiki/Regression_testing), basically this tests are used to check that the code is working as expected after a change.\n",
    "\n",
    "The output of the cell is compared to the expected output. If they match, the test passes. If they don't, the test fails.\n",
    "\n",
    "## Setup the environment\n",
    "1. Install [takluyver/bash_kernel](https://github.com/takluyver/bash_kernel) following the instructions on the repository.\n",
    "1. Change the kernel of the notebook to the fresh installed Bash kernel.\n",
    "\n",
    "## Running your first regression test\n",
    "1. In a code cell write your command to test, for example `echo \"Hello World\"` and run the cell, ensure that the output is correct.\n",
    "1. Then you can run the test using Batspp with: `$ batspp <notebook_name>.ipynb`"
   ]
  },
  {
   "cell_type": "markdown",
   "metadata": {},
   "source": [
    "## A very simple test case example"
   ]
  },
  {
   "cell_type": "code",
   "execution_count": 71,
   "metadata": {
    "vscode": {
     "languageId": "shellscript"
    }
   },
   "outputs": [
    {
     "name": "stdout",
     "output_type": "stream",
     "text": [
      "Hello World\n"
     ]
    }
   ],
   "source": [
    "echo \"Hello World\""
   ]
  },
  {
   "cell_type": "markdown",
   "metadata": {},
   "source": [
    "## A little more complex test case example"
   ]
  },
  {
   "cell_type": "code",
   "execution_count": 72,
   "metadata": {
    "vscode": {
     "languageId": "shellscript"
    }
   },
   "outputs": [],
   "source": [
    "shopt -s expand_aliases\n",
    "function fibonacci () {\n",
    "    result=\"\"\n",
    "    a=0\n",
    "    b=1\n",
    "    for (( i=0; i<=$1; i++ ))\n",
    "    do\n",
    "        result=\"$result$a \"\n",
    "        fn=$((a + b))\n",
    "        a=$b\n",
    "        b=$fn\n",
    "    done\n",
    "    echo $result\n",
    "}\n",
    "alias run-fibonacci='echo \"The Fibonacci series is:\"; fibonacci'"
   ]
  },
  {
   "cell_type": "code",
   "execution_count": 73,
   "metadata": {
    "vscode": {
     "languageId": "shellscript"
    }
   },
   "outputs": [
    {
     "name": "stdout",
     "output_type": "stream",
     "text": [
      "The Fibonacci series is:\n",
      "0 1 1 2 3 5 8 13 21 34\n"
     ]
    }
   ],
   "source": [
    "run-fibonacci 9"
   ]
  },
  {
   "cell_type": "markdown",
   "metadata": {},
   "source": [
    "## Suggestions when writing tests"
   ]
  },
  {
   "cell_type": "markdown",
   "metadata": {},
   "source": [
    "1. Avoid flaky tests (tests that sometimes pass and sometimes fail) for example when using dates or random numbers, you can avoid this by replacing the random number with a fixed number or using a regex to match the output."
   ]
  },
  {
   "cell_type": "code",
   "execution_count": 74,
   "metadata": {
    "vscode": {
     "languageId": "shellscript"
    }
   },
   "outputs": [
    {
     "name": "stdout",
     "output_type": "stream",
     "text": [
      "sáb 14 oct 2023 11:26:38 -03\n"
     ]
    }
   ],
   "source": [
    "# This will fail because the output of date is changing constantly\n",
    "date"
   ]
  },
  {
   "cell_type": "code",
   "execution_count": 75,
   "metadata": {
    "vscode": {
     "languageId": "shellscript"
    }
   },
   "outputs": [
    {
     "name": "stdout",
     "output_type": "stream",
     "text": [
      "thu 00 oct 0000 00:00:00 -00\n"
     ]
    }
   ],
   "source": [
    "# This flaky tests can be fixed by replacing the chaning part of the output\n",
    "date | sed 's/\\w\\+ [0-9]\\+ \\w\\+ [0-9]\\+ [0-9]\\+:[0-9]\\+:[0-9]\\+ -[0-9]\\+/thu 00 oct 0000 00:00:00 -00/'"
   ]
  },
  {
   "cell_type": "markdown",
   "metadata": {},
   "source": [
    "2. Jupyter Notebook will truncate very long outputs, the tests will keep working but you only will see part of the output, for example:"
   ]
  },
  {
   "cell_type": "code",
   "execution_count": 76,
   "metadata": {
    "vscode": {
     "languageId": "shellscript"
    }
   },
   "outputs": [],
   "source": [
    "function nstrings () {\n",
    "  for ((i = 1; i <= $1; i++)); do\n",
    "    echo -en \"$2\"\n",
    "  done\n",
    "}"
   ]
  },
  {
   "cell_type": "code",
   "execution_count": 77,
   "metadata": {
    "vscode": {
     "languageId": "shellscript"
    }
   },
   "outputs": [
    {
     "name": "stdout",
     "output_type": "stream",
     "text": [
      "this is a long output\n",
      "this is a long output\n",
      "this is a long output\n",
      "this is a long output\n",
      "this is a long output\n",
      "this is a long output\n",
      "this is a long output\n",
      "this is a long output\n",
      "this is a long output\n",
      "this is a long output\n",
      "this is a long output\n",
      "this is a long output\n",
      "this is a long output\n",
      "this is a long output\n",
      "this is a long output\n",
      "this is a long output\n",
      "this is a long output\n",
      "this is a long output\n",
      "this is a long output\n",
      "this is a long output\n",
      "this is a long output\n",
      "this is a long output\n",
      "this is a long output\n",
      "this is a long output\n",
      "this is a long output\n",
      "this is a long output\n",
      "this is a long output\n",
      "this is a long output\n",
      "this is a long output\n",
      "this is a long output\n",
      "this is a long output\n",
      "this is a long output\n",
      "this is a long output\n",
      "this is a long output\n",
      "this is a long output\n",
      "this is a long output\n",
      "this is a long output\n",
      "this is a long output\n",
      "this is a long output\n",
      "this is a long output\n",
      "this is a long output\n",
      "this is a long output\n",
      "this is a long output\n",
      "this is a long output\n",
      "this is a long output\n",
      "this is a long output\n",
      "this is a long output\n",
      "this is a long output\n",
      "this is a long output\n",
      "this is a long output\n"
     ]
    }
   ],
   "source": [
    "# This tests has a very long output, and depending on the\n",
    "# tester configuration, Jupyter Notebook will truncate the output\n",
    "nstrings 50 \"this is a long output\\n\""
   ]
  },
  {
   "cell_type": "code",
   "execution_count": 78,
   "metadata": {
    "vscode": {
     "languageId": "shellscript"
    }
   },
   "outputs": [
    {
     "name": "stdout",
     "output_type": "stream",
     "text": [
      "50\n"
     ]
    }
   ],
   "source": [
    "# Maybe you could write tests like this if you want\n",
    "# to ensure that nstrings prints a correct number of lines\n",
    "nstrings 50 \"this is a long output\\n\" | wc -l"
   ]
  }
 ],
 "metadata": {
  "kernelspec": {
   "display_name": "Bash",
   "language": "bash",
   "name": "bash"
  },
  "language_info": {
   "codemirror_mode": "shell",
   "file_extension": ".sh",
   "mimetype": "text/x-sh",
   "name": "bash"
  },
  "orig_nbformat": 4
 },
 "nbformat": 4,
 "nbformat_minor": 2
}
