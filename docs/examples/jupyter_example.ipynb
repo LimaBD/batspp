{
 "cells": [
  {
   "attachments": {},
   "cell_type": "markdown",
   "metadata": {},
   "source": [
    "## Testing example using IPYNB files\n",
    "\n",
    "Remember to run this using [takluyver/bash_kernel](https://github.com/takluyver/bash_kernel)!"
   ]
  },
  {
   "cell_type": "code",
   "execution_count": 1,
   "metadata": {
    "vscode": {
     "languageId": "shellscript"
    }
   },
   "outputs": [
    {
     "name": "stdout",
     "output_type": "stream",
     "text": [
      "hello\n",
      "world\n"
     ]
    }
   ],
   "source": [
    "# This is a simple output assertion\n",
    "echo -e \"hello\\nworld\""
   ]
  },
  {
   "cell_type": "code",
   "execution_count": 3,
   "metadata": {
    "vscode": {
     "languageId": "shellscript"
    }
   },
   "outputs": [
    {
     "name": "stdout",
     "output_type": "stream",
     "text": [
      "The Fibonacci series is:\n",
      "0 1 1 2 3 5 8 13 21 34\n"
     ]
    }
   ],
   "source": [
    "# Testing functions and aliases\n",
    "shopt -s expand_aliases\n",
    "function fibonacci () {\n",
    "    result=\"\"\n",
    "    a=0\n",
    "    b=1\n",
    "    for (( i=0; i<=$1; i++ ))\n",
    "    do\n",
    "        result=\"$result$a \"\n",
    "        fn=$((a + b))\n",
    "        a=$b\n",
    "        b=$fn\n",
    "    done\n",
    "    echo $result\n",
    "}\n",
    "alias run-fibonacci='echo \"The Fibonacci series is:\"; fibonacci'\n",
    "run-fibonacci 9"
   ]
  }
 ],
 "metadata": {
  "kernelspec": {
   "display_name": "Bash",
   "language": "bash",
   "name": "bash"
  },
  "language_info": {
   "codemirror_mode": "shell",
   "file_extension": ".sh",
   "mimetype": "text/x-sh",
   "name": "bash"
  },
  "orig_nbformat": 4,
  "vscode": {
   "interpreter": {
    "hash": "916dbcbb3f70747c44a77c7bcd40155683ae19c65e1c03b4aa3499c5328201f1"
   }
  }
 },
 "nbformat": 4,
 "nbformat_minor": 2
}
