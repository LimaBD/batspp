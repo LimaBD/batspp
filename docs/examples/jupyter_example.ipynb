{
 "cells": [
  {
   "cell_type": "markdown",
   "metadata": {},
   "source": [
    "## TODO: WORK-IN-PROGRESS"
   ]
  }
 ],
 "metadata": {
  "kernelspec": {
   "display_name": "Python 3.10.5 64-bit ('3.10.5')",
   "language": "python",
   "name": "python3"
  },
  "language_info": {
   "name": "python",
   "version": "3.10.5"
  },
  "orig_nbformat": 4,
  "vscode": {
   "interpreter": {
    "hash": "38a41474cb9c383ce98540ee43b96a6390bcbc7946c3e45bba559cbe5b8eb6d1"
   }
  }
 },
 "nbformat": 4,
 "nbformat_minor": 2
}
