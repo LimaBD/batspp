{
 "cells": [
  {
   "cell_type": "markdown",
   "id": "ba0e21b3",
   "metadata": {},
   "source": [
    "### This test will pass"
   ]
  },
  {
   "cell_type": "code",
   "execution_count": 3,
   "id": "aa6595dc",
   "metadata": {
    "vscode": {
     "languageId": "shellscript"
    }
   },
   "outputs": [
    {
     "name": "stdout",
     "output_type": "stream",
     "text": [
      "dummy\n"
     ]
    }
   ],
   "source": [
    "echo dummy"
   ]
  },
  {
   "cell_type": "markdown",
   "id": "adff7048",
   "metadata": {},
   "source": [
    "### This test will fail: the time will be different when tested"
   ]
  },
  {
   "cell_type": "code",
   "execution_count": 16,
   "id": "f81868df",
   "metadata": {
    "vscode": {
     "languageId": "shellscript"
    }
   },
   "outputs": [
    {
     "ename": "",
     "evalue": "1",
     "output_type": "error",
     "traceback": []
    }
   ],
   "source": [
    "date | grep \"oct 2020\""
   ]
  }
 ],
 "metadata": {
  "kernelspec": {
   "display_name": "Bash",
   "language": "bash",
   "name": "bash"
  },
  "language_info": {
   "codemirror_mode": "shell",
   "file_extension": ".sh",
   "mimetype": "text/x-sh",
   "name": "bash"
  }
 },
 "nbformat": 4,
 "nbformat_minor": 5
}
